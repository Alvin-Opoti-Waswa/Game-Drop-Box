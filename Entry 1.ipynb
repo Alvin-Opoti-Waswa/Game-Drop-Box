{
  "metadata": {
    "orig_nbformat": 4
  },
  "nbformat_minor": 4,
  "nbformat": 4,
  "cells": []
}
print('Lets Play A Guessing Game')
print('The RULES are as follows')
print('Each correct answers is worth 10 points and Incorrect answers are worth 0')
print('The Player with the most points wins')
